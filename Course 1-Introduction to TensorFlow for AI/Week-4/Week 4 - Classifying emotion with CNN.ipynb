{
 "cells": [
  {
   "cell_type": "markdown",
   "metadata": {
    "colab_type": "text",
    "id": "UncprnB0ymAE"
   },
   "source": [
    "Below is code with a link to a happy or sad dataset which contains 80 images, 40 happy and 40 sad. \n",
    "Create a convolutional neural network that trains to 100% accuracy on these images,  which cancels training upon hitting training accuracy of >.999\n",
    "\n",
    "Hint -- it will work best with 3 convolutional layers."
   ]
  },
  {
   "cell_type": "code",
   "execution_count": 1,
   "metadata": {},
   "outputs": [],
   "source": [
    "import tensorflow as tf\n",
    "import os\n",
    "import zipfile\n",
    "from os import path, getcwd, chdir\n",
    "\n",
    "# DO NOT CHANGE THE LINE BELOW. If you are developing in a local\n",
    "# environment, then grab happy-or-sad.zip from the Coursera Jupyter Notebook\n",
    "# and place it inside a local folder and edit the path to that location\n",
    "path = f\"{getcwd()}/../tmp2/happy-or-sad.zip\"\n",
    "\n",
    "zip_ref = zipfile.ZipFile(path, 'r')\n",
    "zip_ref.extractall(\"/tmp/h-or-s\")\n",
    "zip_ref.close()"
   ]
  },
  {
   "cell_type": "code",
   "execution_count": 8,
   "metadata": {},
   "outputs": [],
   "source": [
    "# GRADED FUNCTION: train_happy_sad_model\n",
    "def train_happy_sad_model():\n",
    "    # Please write your code only where you are indicated.\n",
    "    # please do not remove # model fitting inline comments.\n",
    "\n",
    "    DESIRED_ACCURACY = 0.999\n",
    "\n",
    "    class myCallback(tf.keras.callbacks.Callback):\n",
    "        \n",
    "        def on_epoch_end(self,epoch,logs={}):\n",
    "            \n",
    "            if logs.get('acc')>DESIRED_ACCURACY:\n",
    "                print(\"\\n Reached 99.9% accuracy so cancelling training!\")\n",
    "                self.model.stop_training=True\n",
    "         \n",
    "        \n",
    "\n",
    "    callbacks = myCallback()\n",
    "    \n",
    "    # This Code Block should Define and Compile the Model. Please assume the images are 150 X 150 in your implementation.\n",
    "    model = tf.keras.models.Sequential([\n",
    "        \n",
    "        tf.keras.layers.Conv2D(16,(3,3),activation='relu',input_shape=(150,150,3)),\n",
    "        tf.keras.layers.MaxPooling2D(2,2),\n",
    "        \n",
    "        tf.keras.layers.Conv2D(32,(3,3),activation='relu'),\n",
    "        tf.keras.layers.MaxPooling2D(2,2),\n",
    "        \n",
    "        tf.keras.layers.Conv2D(32,(3,3),activation='relu'),\n",
    "        tf.keras.layers.MaxPooling2D(2,2),\n",
    "        \n",
    "        tf.keras.layers.Flatten(),\n",
    "        tf.keras.layers.Dense(512,activation='relu'),\n",
    "        tf.keras.layers.Dense(128,activation='relu'),\n",
    "        tf.keras.layers.Dense(1,activation='sigmoid')\n",
    "    ])\n",
    "\n",
    "    from tensorflow.keras.optimizers import RMSprop\n",
    "\n",
    "    model.compile(\n",
    "        optimizer=RMSprop(),\n",
    "        loss='binary_crossentropy',\n",
    "        metrics=['accuracy']\n",
    "        \n",
    "    )\n",
    "        \n",
    "\n",
    "    # This code block should create an instance of an ImageDataGenerator called train_datagen \n",
    "    # And a train_generator by calling train_datagen.flow_from_directory\n",
    "\n",
    "    from tensorflow.keras.preprocessing.image import ImageDataGenerator\n",
    "\n",
    "    train_datagen = ImageDataGenerator(rescale=1./255)\n",
    "\n",
    "    # Please use a target_size of 150 X 150.\n",
    "    train_generator = train_datagen.flow_from_directory(\n",
    "        \"/tmp/h-or-s\",\n",
    "        target_size=(150,150),\n",
    "        batch_size=64,\n",
    "        class_mode='binary'\n",
    "    )\n",
    "    # Expected output: 'Found 80 images belonging to 2 classes'\n",
    "\n",
    "    # This code block should call model.fit_generator and train for\n",
    "    # a number of epochs.\n",
    "    # model fitting\n",
    "    history = model.fit_generator(\n",
    "        train_generator,\n",
    "        steps_per_epoch=2,\n",
    "        epochs=20,\n",
    "        callbacks=[callbacks]\n",
    "          )\n",
    "    # model fitting\n",
    "    return history.history['acc'][-1]"
   ]
  },
  {
   "cell_type": "code",
   "execution_count": 9,
   "metadata": {},
   "outputs": [
    {
     "name": "stdout",
     "output_type": "stream",
     "text": [
      "Found 80 images belonging to 2 classes.\n",
      "Epoch 1/20\n",
      "2/2 [==============================] - 3s 1s/step - loss: 2.1075 - acc: 0.5000\n",
      "Epoch 2/20\n",
      "2/2 [==============================] - 0s 51ms/step - loss: 1.3414 - acc: 0.5000\n",
      "Epoch 3/20\n",
      "2/2 [==============================] - 0s 209ms/step - loss: 0.6710 - acc: 0.5875\n",
      "Epoch 4/20\n",
      "2/2 [==============================] - 0s 159ms/step - loss: 0.6630 - acc: 0.7125\n",
      "Epoch 5/20\n",
      "2/2 [==============================] - 0s 204ms/step - loss: 0.6011 - acc: 0.8625\n",
      "Epoch 6/20\n",
      "2/2 [==============================] - 0s 234ms/step - loss: 0.5949 - acc: 0.5625\n",
      "Epoch 7/20\n",
      "2/2 [==============================] - 0s 157ms/step - loss: 0.4036 - acc: 0.9375\n",
      "Epoch 8/20\n",
      "2/2 [==============================] - 0s 201ms/step - loss: 0.6643 - acc: 0.6750\n",
      "Epoch 9/20\n",
      "2/2 [==============================] - 0s 200ms/step - loss: 0.3302 - acc: 0.9125\n",
      "Epoch 10/20\n",
      "2/2 [==============================] - 0s 199ms/step - loss: 0.3549 - acc: 0.8875\n",
      "Epoch 11/20\n",
      "2/2 [==============================] - 0s 198ms/step - loss: 0.1530 - acc: 0.9500\n",
      "Epoch 12/20\n",
      "2/2 [==============================] - 0s 157ms/step - loss: 0.1592 - acc: 0.9750\n",
      "Epoch 13/20\n",
      "1/2 [==============>...............] - ETA: 0s - loss: 0.0757 - acc: 1.0000\n",
      " Reached 99.9% accuracy so cancelling training!\n",
      "2/2 [==============================] - 0s 240ms/step - loss: 0.1005 - acc: 1.0000\n"
     ]
    },
    {
     "data": {
      "text/plain": [
       "1.0"
      ]
     },
     "execution_count": 9,
     "metadata": {},
     "output_type": "execute_result"
    }
   ],
   "source": [
    "# The Expected output: \"Reached 99.9% accuracy so cancelling training!\"\"\n",
    "train_happy_sad_model()"
   ]
  },
  {
   "cell_type": "code",
   "execution_count": 4,
   "metadata": {},
   "outputs": [],
   "source": [
    "# Now click the 'Submit Assignment' button above.\n",
    "# Once that is complete, please run the following two cells to save your work and close the notebook"
   ]
  },
  {
   "cell_type": "code",
   "execution_count": null,
   "metadata": {},
   "outputs": [],
   "source": [
    "%%javascript\n",
    "<!-- Save the notebook -->\n",
    "IPython.notebook.save_checkpoint();"
   ]
  },
  {
   "cell_type": "code",
   "execution_count": null,
   "metadata": {},
   "outputs": [],
   "source": [
    "%%javascript\n",
    "IPython.notebook.session.delete();\n",
    "window.onbeforeunload = null\n",
    "setTimeout(function() { window.close(); }, 1000);"
   ]
  }
 ],
 "metadata": {
  "coursera": {
   "course_slug": "introduction-tensorflow",
   "graded_item_id": "1kAlw",
   "launcher_item_id": "PNLYD"
  },
  "kernelspec": {
   "display_name": "Python 3",
   "language": "python",
   "name": "python3"
  },
  "language_info": {
   "codemirror_mode": {
    "name": "ipython",
    "version": 3
   },
   "file_extension": ".py",
   "mimetype": "text/x-python",
   "name": "python",
   "nbconvert_exporter": "python",
   "pygments_lexer": "ipython3",
   "version": "3.6.8"
  }
 },
 "nbformat": 4,
 "nbformat_minor": 1
}
