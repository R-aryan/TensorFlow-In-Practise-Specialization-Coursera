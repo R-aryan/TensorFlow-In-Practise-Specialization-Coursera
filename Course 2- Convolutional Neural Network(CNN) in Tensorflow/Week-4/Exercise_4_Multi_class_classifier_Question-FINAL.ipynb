{
 "cells": [
  {
   "cell_type": "code",
   "execution_count": 16,
   "metadata": {
    "colab": {},
    "colab_type": "code",
    "id": "wYtuKeK0dImp"
   },
   "outputs": [],
   "source": [
    "# ATTENTION: Please do not alter any of the provided code in the exercise. Only add your own code where indicated\n",
    "# ATTENTION: Please do not add or remove any cells in the exercise. The grader will check specific cells based on the cell position.\n",
    "# ATTENTION: Please use the provided epoch values when training.\n",
    "\n",
    "import csv\n",
    "import numpy as np\n",
    "import tensorflow as tf\n",
    "from tensorflow.keras.preprocessing.image import ImageDataGenerator\n",
    "from os import getcwd"
   ]
  },
  {
   "cell_type": "code",
   "execution_count": 17,
   "metadata": {
    "colab": {},
    "colab_type": "code",
    "id": "4kxw-_rmcnVu"
   },
   "outputs": [
    {
     "name": "stdout",
     "output_type": "stream",
     "text": [
      "(27455, 28, 28)\n",
      "(27455,)\n",
      "(7172, 28, 28)\n",
      "(7172,)\n"
     ]
    }
   ],
   "source": [
    "def get_data(filename):\n",
    "  # You will need to write code that will read the file passed\n",
    "  # into this function. The first line contains the column headers\n",
    "  # so you should ignore it\n",
    "  # Each successive line contians 785 comma separated values between 0 and 255\n",
    "  # The first value is the label\n",
    "  # The rest are the pixel values for that picture\n",
    "  # The function will return 2 np.array types. One with all the labels\n",
    "  # One with all the images\n",
    "  #\n",
    "  # Tips: \n",
    "  # If you read a full line (as 'row') then row[0] has the label\n",
    "  # and row[1:785] has the 784 pixel values\n",
    "  # Take a look at np.array_split to turn the 784 pixels into 28x28\n",
    "  # You are reading in strings, but need the values to be floats\n",
    "  # Check out np.array().astype for a conversion\n",
    "    with open(filename) as training_file:\n",
    "        reader=csv.reader(training_file,delimiter=',')\n",
    "        \n",
    "        imgs=[]\n",
    "        labels=[]\n",
    "        \n",
    "        next(reader,None)\n",
    "        \n",
    "        for row in reader:\n",
    "            label=row[0]\n",
    "            data= row[1:]\n",
    "            \n",
    "            img=np.array(data).reshape((28,28))\n",
    "            \n",
    "            imgs.append(img)\n",
    "            labels.append(label)\n",
    "            \n",
    "        images=np.array(imgs).astype(float)\n",
    "        labels=np.array(labels).astype(float)\n",
    "        \n",
    "    \n",
    "      # Your code ends here\n",
    "    return images, labels\n",
    "\n",
    "path_sign_mnist_train = f\"{getcwd()}/../tmp2/sign_mnist_train.csv\"\n",
    "path_sign_mnist_test = f\"{getcwd()}/../tmp2/sign_mnist_test.csv\"\n",
    "training_images, training_labels = get_data(path_sign_mnist_train)\n",
    "testing_images, testing_labels = get_data(path_sign_mnist_test)\n",
    "\n",
    "# Keep these\n",
    "print(training_images.shape)\n",
    "print(training_labels.shape)\n",
    "print(testing_images.shape)\n",
    "print(testing_labels.shape)\n",
    "\n",
    "# Their output should be:\n",
    "# (27455, 28, 28)\n",
    "# (27455,)\n",
    "# (7172, 28, 28)\n",
    "# (7172,)"
   ]
  },
  {
   "cell_type": "code",
   "execution_count": 18,
   "metadata": {
    "colab": {},
    "colab_type": "code",
    "id": "awoqRpyZdQkD"
   },
   "outputs": [
    {
     "name": "stdout",
     "output_type": "stream",
     "text": [
      "(27455, 28, 28, 1)\n",
      "(7172, 28, 28, 1)\n"
     ]
    }
   ],
   "source": [
    "# In this section you will have to add another dimension to the data\n",
    "# So, for example, if your array is (10000, 28, 28)\n",
    "# You will need to make it (10000, 28, 28, 1)\n",
    "# Hint: np.expand_dims\n",
    "\n",
    "training_images = np.expand_dims(training_images,axis=3)\n",
    "testing_images =  np.expand_dims(testing_images,axis=3)\n",
    "\n",
    "# Create an ImageDataGenerator and do Image Augmentation\n",
    "train_datagen = ImageDataGenerator(rescale=1./255,\n",
    "                                   rotation_range=40,\n",
    "                                   width_shift_range=0.2,\n",
    "                                   height_shift_range=0.2,\n",
    "                                   shear_range=0.2,\n",
    "                                   zoom_range=0.2,\n",
    "                                   horizontal_flip=True,\n",
    "                                   fill_mode='nearest'\n",
    "    \n",
    "    )\n",
    "\n",
    "validation_datagen = ImageDataGenerator(rescale=1./255)\n",
    "    \n",
    "# Keep These\n",
    "print(training_images.shape)\n",
    "print(testing_images.shape)\n",
    "    \n",
    "# Their output should be:\n",
    "# (27455, 28, 28, 1)\n",
    "# (7172, 28, 28, 1)"
   ]
  },
  {
   "cell_type": "code",
   "execution_count": 20,
   "metadata": {
    "colab": {},
    "colab_type": "code",
    "id": "Rmb7S32cgRqS"
   },
   "outputs": [
    {
     "name": "stdout",
     "output_type": "stream",
     "text": [
      "Epoch 1/20\n",
      "429/429 [==============================] - 47s 109ms/step - loss: 2.8624 - accuracy: 0.1419 - val_loss: 1.9889 - val_accuracy: 0.3518\n",
      "Epoch 2/20\n",
      "429/429 [==============================] - 47s 109ms/step - loss: 2.1388 - accuracy: 0.3312 - val_loss: 1.4514 - val_accuracy: 0.4999\n",
      "Epoch 3/20\n",
      "429/429 [==============================] - 46s 107ms/step - loss: 1.7735 - accuracy: 0.4318 - val_loss: 1.2763 - val_accuracy: 0.5406\n",
      "Epoch 4/20\n",
      "429/429 [==============================] - 45s 105ms/step - loss: 1.5209 - accuracy: 0.5105 - val_loss: 1.0823 - val_accuracy: 0.6210\n",
      "Epoch 5/20\n",
      "429/429 [==============================] - 45s 104ms/step - loss: 1.3365 - accuracy: 0.5639 - val_loss: 0.7634 - val_accuracy: 0.7387\n",
      "Epoch 6/20\n",
      "429/429 [==============================] - 46s 107ms/step - loss: 1.1999 - accuracy: 0.6075 - val_loss: 0.9247 - val_accuracy: 0.6790\n",
      "Epoch 7/20\n",
      "429/429 [==============================] - 47s 108ms/step - loss: 1.0755 - accuracy: 0.6466 - val_loss: 0.7223 - val_accuracy: 0.7337\n",
      "Epoch 8/20\n",
      "429/429 [==============================] - 46s 107ms/step - loss: 0.9793 - accuracy: 0.6780 - val_loss: 0.6342 - val_accuracy: 0.7655\n",
      "Epoch 9/20\n",
      "429/429 [==============================] - 45s 104ms/step - loss: 0.8866 - accuracy: 0.7085 - val_loss: 0.5355 - val_accuracy: 0.8107\n",
      "Epoch 10/20\n",
      "429/429 [==============================] - 45s 106ms/step - loss: 0.8367 - accuracy: 0.7245 - val_loss: 0.4447 - val_accuracy: 0.8546\n",
      "Epoch 11/20\n",
      "429/429 [==============================] - 44s 102ms/step - loss: 0.7771 - accuracy: 0.7434 - val_loss: 0.4023 - val_accuracy: 0.8668\n",
      "Epoch 12/20\n",
      "429/429 [==============================] - 45s 105ms/step - loss: 0.7301 - accuracy: 0.7596 - val_loss: 0.3814 - val_accuracy: 0.8643\n",
      "Epoch 13/20\n",
      "429/429 [==============================] - 47s 110ms/step - loss: 0.6823 - accuracy: 0.7715 - val_loss: 0.3732 - val_accuracy: 0.8673\n",
      "Epoch 14/20\n",
      "429/429 [==============================] - 46s 107ms/step - loss: 0.6421 - accuracy: 0.7870 - val_loss: 0.4519 - val_accuracy: 0.8398\n",
      "Epoch 15/20\n",
      "429/429 [==============================] - 47s 110ms/step - loss: 0.6115 - accuracy: 0.7956 - val_loss: 0.3133 - val_accuracy: 0.8926\n",
      "Epoch 16/20\n",
      "429/429 [==============================] - 47s 109ms/step - loss: 0.5764 - accuracy: 0.8086 - val_loss: 0.3109 - val_accuracy: 0.9020\n",
      "Epoch 17/20\n",
      "429/429 [==============================] - 48s 111ms/step - loss: 0.5468 - accuracy: 0.8192 - val_loss: 0.2833 - val_accuracy: 0.8995\n",
      "Epoch 18/20\n",
      "429/429 [==============================] - 45s 105ms/step - loss: 0.5163 - accuracy: 0.8288 - val_loss: 0.3214 - val_accuracy: 0.8921\n",
      "Epoch 19/20\n",
      "429/429 [==============================] - 45s 105ms/step - loss: 0.4986 - accuracy: 0.8353 - val_loss: 0.2100 - val_accuracy: 0.9236\n",
      "Epoch 20/20\n",
      "429/429 [==============================] - 43s 101ms/step - loss: 0.4870 - accuracy: 0.8401 - val_loss: 0.3502 - val_accuracy: 0.8873\n"
     ]
    },
    {
     "data": {
      "text/plain": [
       "[6.92426086682151, 0.56609035]"
      ]
     },
     "execution_count": 20,
     "metadata": {},
     "output_type": "execute_result"
    }
   ],
   "source": [
    "# Define the model\n",
    "# Use no more than 2 Conv2D and 2 MaxPooling2D\n",
    "# Define the model\n",
    "# Use no more than 2 Conv2D and 2 MaxPooling2D\n",
    "model = tf.keras.models.Sequential([\n",
    "    tf.keras.layers.Conv2D(32, (3,3), activation='relu', input_shape=(28, 28, 1)),\n",
    "    tf.keras.layers.MaxPooling2D(2,2),\n",
    "    tf.keras.layers.Conv2D(32, (3,3), activation='relu'),\n",
    "    tf.keras.layers.MaxPooling2D(2,2),\n",
    "    tf.keras.layers.Flatten(),\n",
    "    tf.keras.layers.Dense(512, activation='relu'),\n",
    "    tf.keras.layers.Dense(26, activation='softmax')\n",
    "])\n",
    "\n",
    "# Compile Model. \n",
    "model.compile(\n",
    "    optimizer='adam',\n",
    "    loss='sparse_categorical_crossentropy',\n",
    "    metrics=['accuracy']\n",
    ")\n",
    "\n",
    "# Configure generators\n",
    "train_gen = train_datagen.flow(\n",
    "    training_images,\n",
    "    training_labels,\n",
    "    batch_size=64\n",
    ")\n",
    "\n",
    "val_gen = validation_datagen.flow(\n",
    "    testing_images,\n",
    "    testing_labels,\n",
    "    batch_size=64\n",
    ")\n",
    "\n",
    "# Train the Model\n",
    "history = model.fit_generator(\n",
    "    train_gen,\n",
    "    epochs=15,\n",
    "    validation_data=val_gen\n",
    ")\n",
    "\n",
    "model.evaluate(testing_images, testing_labels,verbose=0)\n",
    "# Baseline\n",
    "# [Loss, accuracy]\n",
    "[6.92426086682151, 0.56609035]"
   ]
  },
  {
   "cell_type": "code",
   "execution_count": 13,
   "metadata": {
    "colab": {},
    "colab_type": "code",
    "id": "_Q3Zpr46dsij"
   },
   "outputs": [
    {
     "data": {
      "image/png": "[encoded data removed]",
      "text/plain": [
       "<Figure size 432x288 with 1 Axes>"
      ]
     },
     "metadata": {
      "needs_background": "light"
     },
     "output_type": "display_data"
    },
    {
     "data": {
      "image/png": "[encoded data removed]",
      "text/plain": [
       "<Figure size 432x288 with 1 Axes>"
      ]
     },
     "metadata": {
      "needs_background": "light"
     },
     "output_type": "display_data"
    }
   ],
   "source": [
    "# Plot the chart for accuracy and loss on both training and validation\n",
    "%matplotlib inline\n",
    "import matplotlib.pyplot as plt\n",
    "acc = history.history['accuracy']\n",
    "val_acc = history.history['val_accuracy']\n",
    "loss =  history.history['loss']\n",
    "val_loss =  history.history['val_loss']\n",
    "\n",
    "epochs = range(len(acc))\n",
    "\n",
    "plt.plot(epochs, acc, 'r', label='Training accuracy')\n",
    "plt.plot(epochs, val_acc, 'b', label='Validation accuracy')\n",
    "plt.title('Training and validation accuracy')\n",
    "plt.legend()\n",
    "plt.figure()\n",
    "\n",
    "plt.plot(epochs, loss, 'r', label='Training Loss')\n",
    "plt.plot(epochs, val_loss, 'b', label='Validation Loss')\n",
    "plt.title('Training and validation loss')\n",
    "plt.legend()\n",
    "\n",
    "plt.show()"
   ]
  },
  {
   "cell_type": "markdown",
   "metadata": {},
   "source": [
    "# Submission Instructions"
   ]
  },
  {
   "cell_type": "code",
   "execution_count": null,
   "metadata": {},
   "outputs": [],
   "source": [
    "# Now click the 'Submit Assignment' button above."
   ]
  },
  {
   "cell_type": "markdown",
   "metadata": {},
   "source": [
    "# When you're done or would like to take a break, please run the two cells below to save your work and close the Notebook. This will free up resources for your fellow learners. "
   ]
  },
  {
   "cell_type": "code",
   "execution_count": null,
   "metadata": {},
   "outputs": [],
   "source": [
    "%%javascript\n",
    "<!-- Save the notebook -->\n",
    "IPython.notebook.save_checkpoint();"
   ]
  },
  {
   "cell_type": "code",
   "execution_count": null,
   "metadata": {},
   "outputs": [],
   "source": [
    "%%javascript\n",
    "IPython.notebook.session.delete();\n",
    "window.onbeforeunload = null\n",
    "setTimeout(function() { window.close(); }, 1000);"
   ]
  }
 ],
 "metadata": {
  "colab": {
   "name": "Exercise 8 - Question.ipynb",
   "provenance": []
  },
  "coursera": {
   "course_slug": "convolutional-neural-networks-tensorflow",
   "graded_item_id": "8mIh8",
   "launcher_item_id": "gg95t"
  },
  "kernelspec": {
   "display_name": "Python 3",
   "language": "python",
   "name": "python3"
  },
  "language_info": {
   "codemirror_mode": {
    "name": "ipython",
    "version": 3
   },
   "file_extension": ".py",
   "mimetype": "text/x-python",
   "name": "python",
   "nbconvert_exporter": "python",
   "pygments_lexer": "ipython3",
   "version": "3.6.8"
  }
 },
 "nbformat": 4,
 "nbformat_minor": 1
}
